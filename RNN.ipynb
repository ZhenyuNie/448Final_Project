{
 "cells": [
  {
   "cell_type": "code",
   "execution_count": 19,
   "metadata": {},
   "outputs": [
    {
     "name": "stdout",
     "output_type": "stream",
     "text": [
      "Epoch 1/10\n",
      "140/140 [==============================] - 9s 46ms/step - loss: 0.4108 - accuracy: 0.8652 - val_loss: 0.3885 - val_accuracy: 0.8700\n",
      "Epoch 2/10\n",
      "140/140 [==============================] - 6s 41ms/step - loss: 0.3986 - accuracy: 0.8649 - val_loss: 0.3865 - val_accuracy: 0.8700\n",
      "Epoch 3/10\n",
      "140/140 [==============================] - 6s 41ms/step - loss: 0.3967 - accuracy: 0.8649 - val_loss: 0.3870 - val_accuracy: 0.8700\n",
      "Epoch 4/10\n",
      "140/140 [==============================] - 6s 42ms/step - loss: 0.3976 - accuracy: 0.8649 - val_loss: 0.3874 - val_accuracy: 0.8700\n",
      "Epoch 5/10\n",
      "140/140 [==============================] - 6s 42ms/step - loss: 0.3968 - accuracy: 0.8649 - val_loss: 0.3871 - val_accuracy: 0.8700\n",
      "Epoch 6/10\n",
      "140/140 [==============================] - 6s 42ms/step - loss: 0.3968 - accuracy: 0.8649 - val_loss: 0.3876 - val_accuracy: 0.8700\n",
      "Epoch 7/10\n",
      "140/140 [==============================] - 6s 42ms/step - loss: 0.3970 - accuracy: 0.8649 - val_loss: 0.3865 - val_accuracy: 0.8700\n",
      "Epoch 8/10\n",
      "140/140 [==============================] - 6s 42ms/step - loss: 0.3966 - accuracy: 0.8649 - val_loss: 0.3871 - val_accuracy: 0.8700\n",
      "Epoch 9/10\n",
      "140/140 [==============================] - 6s 42ms/step - loss: 0.3973 - accuracy: 0.8649 - val_loss: 0.3868 - val_accuracy: 0.8700\n",
      "Epoch 10/10\n",
      "140/140 [==============================] - 6s 42ms/step - loss: 0.3965 - accuracy: 0.8649 - val_loss: 0.3865 - val_accuracy: 0.8700\n"
     ]
    },
    {
     "data": {
      "text/plain": [
       "<keras.callbacks.History at 0x7fc683f1c610>"
      ]
     },
     "execution_count": 19,
     "metadata": {},
     "output_type": "execute_result"
    }
   ],
   "source": [
    "import pandas as pd\n",
    "import numpy as np\n",
    "import tensorflow as tf\n",
    "from tensorflow.keras.preprocessing.text import Tokenizer\n",
    "from tensorflow.keras.preprocessing.sequence import pad_sequences\n",
    "from tensorflow.keras.models import Sequential\n",
    "from tensorflow.keras.layers import Embedding, LSTM, Dense\n",
    "import re\n",
    "\n",
    "# load data set\n",
    "data = pd.read_csv('spam.csv', encoding='latin-1')\n",
    "data = data[['v1', 'v2']] \n",
    "data.columns = ['label', 'message']  \n",
    "\n",
    "# convert label to binary\n",
    "data['label'] = data['label'].map({'ham': 0, 'spam': 1})\n",
    "\n",
    "# split data set\n",
    "messages = data['message'].values\n",
    "labels = data['label'].values\n",
    "\n",
    "\n",
    "# clean text\n",
    "def clean_text(text):\n",
    "    # remove non-letters\n",
    "    text = re.sub(r'\\W+', ' ', text)\n",
    "    # convert to lower case\n",
    "    text = text.lower()\n",
    "    return text\n",
    "\n",
    "\n",
    "data['message'] = data['message'].apply(clean_text)\n",
    "\n",
    "# set parameters for tokenizer\n",
    "vocab_size = 10000\n",
    "oov_tok = \"<OOV>\"\n",
    "max_length = 100\n",
    "padding_type = 'post'\n",
    "trunc_type = 'post'\n",
    "\n",
    "# Initialize and fit tokenizer \n",
    "tokenizer = Tokenizer(num_words=vocab_size, oov_token=oov_tok)\n",
    "tokenizer.fit_on_texts(messages)\n",
    "\n",
    "#Convert text to sequences of numbers\n",
    "sequences = tokenizer.texts_to_sequences(messages)\n",
    "padded_sequences = pad_sequences(sequences, maxlen=max_length, padding=padding_type, truncating=trunc_type)\n",
    "\n",
    "#Create the RNN model\n",
    "model = Sequential()\n",
    "# embedding layer\n",
    "model.add(Embedding(vocab_size, 128))\n",
    "# LSTM layer\n",
    "model.add(LSTM(64, dropout=0.2, recurrent_dropout=0.2))\n",
    "# Dense layer\n",
    "model.add(Dense(1, activation='sigmoid'))\n",
    "model.compile(loss='binary_crossentropy', optimizer='adam', metrics=['accuracy'])\n",
    "model.fit(padded_sequences, labels, epochs=10, validation_split=0.2)\n"
   ]
  },
  {
   "cell_type": "code",
   "execution_count": null,
   "metadata": {},
   "outputs": [],
   "source": []
  }
 ],
 "metadata": {
  "kernelspec": {
   "display_name": "448_final",
   "language": "python",
   "name": "python3"
  },
  "language_info": {
   "codemirror_mode": {
    "name": "ipython",
    "version": 3
   },
   "file_extension": ".py",
   "mimetype": "text/x-python",
   "name": "python",
   "nbconvert_exporter": "python",
   "pygments_lexer": "ipython3",
   "version": "3.9.18"
  }
 },
 "nbformat": 4,
 "nbformat_minor": 2
}

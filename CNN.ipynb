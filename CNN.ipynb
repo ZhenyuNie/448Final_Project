{
 "cells": [
  {
   "cell_type": "code",
   "execution_count": 14,
   "metadata": {},
   "outputs": [
    {
     "name": "stdout",
     "output_type": "stream",
     "text": [
      "Epoch 1/10\n",
      "140/140 [==============================] - 2s 11ms/step - loss: 0.2652 - accuracy: 0.9071 - val_loss: 0.0603 - val_accuracy: 0.9776\n",
      "Epoch 2/10\n",
      "140/140 [==============================] - 1s 10ms/step - loss: 0.0343 - accuracy: 0.9908 - val_loss: 0.0396 - val_accuracy: 0.9892\n",
      "Epoch 3/10\n",
      "140/140 [==============================] - 1s 10ms/step - loss: 0.0107 - accuracy: 0.9978 - val_loss: 0.0374 - val_accuracy: 0.9892\n",
      "Epoch 4/10\n",
      "140/140 [==============================] - 1s 9ms/step - loss: 0.0039 - accuracy: 0.9993 - val_loss: 0.0377 - val_accuracy: 0.9892\n",
      "Epoch 5/10\n",
      "140/140 [==============================] - 1s 10ms/step - loss: 0.0019 - accuracy: 0.9998 - val_loss: 0.0395 - val_accuracy: 0.9892\n",
      "Epoch 6/10\n",
      "140/140 [==============================] - 1s 10ms/step - loss: 0.0014 - accuracy: 0.9998 - val_loss: 0.0411 - val_accuracy: 0.9883\n",
      "Epoch 7/10\n",
      "140/140 [==============================] - 1s 9ms/step - loss: 0.0011 - accuracy: 0.9998 - val_loss: 0.0419 - val_accuracy: 0.9874\n",
      "Epoch 8/10\n",
      "140/140 [==============================] - 1s 10ms/step - loss: 4.9507e-04 - accuracy: 1.0000 - val_loss: 0.0427 - val_accuracy: 0.9883\n",
      "Epoch 9/10\n",
      "140/140 [==============================] - 1s 10ms/step - loss: 2.9623e-04 - accuracy: 1.0000 - val_loss: 0.0452 - val_accuracy: 0.9865\n",
      "Epoch 10/10\n",
      "140/140 [==============================] - 1s 10ms/step - loss: 1.9664e-04 - accuracy: 1.0000 - val_loss: 0.0461 - val_accuracy: 0.9874\n"
     ]
    },
    {
     "data": {
      "text/plain": [
       "<keras.callbacks.History at 0x7fa048b427c0>"
      ]
     },
     "execution_count": 14,
     "metadata": {},
     "output_type": "execute_result"
    }
   ],
   "source": [
    "import pandas as pd\n",
    "import numpy as np\n",
    "import tensorflow as tf\n",
    "from tensorflow.keras.preprocessing.text import Tokenizer\n",
    "from tensorflow.keras.preprocessing.sequence import pad_sequences\n",
    "from tensorflow.keras.models import Sequential\n",
    "from tensorflow.keras.layers import Embedding, Conv1D, GlobalMaxPooling1D, Dense\n",
    "\n",
    "# load data set \n",
    "data = pd.read_csv('spam.csv', encoding='latin-1')\n",
    "data = data[['v1', 'v2']]  \n",
    "# rename the default column names to more intuitive ones\n",
    "data.columns = ['label', 'message']  \n",
    "\n",
    "#convert labels to binary values\n",
    "data['label'] = data['label'].map({'ham': 0, 'spam': 1})\n",
    "\n",
    "#split the data into text and labels\n",
    "messages = data['message'].values\n",
    "labels = data['label'].values\n",
    "\n",
    "# set the parameters for the tokenizer\n",
    "vocab_size = 10000\n",
    "oov_tok = \"<OOV>\"\n",
    "max_length = 100\n",
    "padding_type = 'post'\n",
    "trunc_type = 'post'\n",
    "\n",
    "#Initialize and fit the tokenizer\n",
    "tokenizer = Tokenizer(num_words=vocab_size, oov_token=oov_tok)\n",
    "tokenizer.fit_on_texts(messages)\n",
    "\n",
    "#convert the text to sequences\n",
    "sequences = tokenizer.texts_to_sequences(messages)\n",
    "padded_sequences = pad_sequences(sequences, maxlen=max_length, padding=padding_type, truncating=trunc_type)\n",
    "\n",
    "# structure of the CNN model\n",
    "model = Sequential()\n",
    "model.add(Embedding(vocab_size, 128, input_length=max_length))\n",
    "model.add(Conv1D(64, 5, activation='relu'))\n",
    "model.add(GlobalMaxPooling1D())\n",
    "model.add(Dense(1, activation='sigmoid'))\n",
    "\n",
    "#Compile the model\n",
    "model.compile(loss='binary_crossentropy', optimizer='adam', metrics=['accuracy'])\n",
    "\n",
    "# Train the model\n",
    "model.fit(padded_sequences, labels, epochs=10, validation_split=0.2)\n"
   ]
  },
  {
   "cell_type": "code",
   "execution_count": null,
   "metadata": {},
   "outputs": [],
   "source": []
  }
 ],
 "metadata": {
  "kernelspec": {
   "display_name": "448_final",
   "language": "python",
   "name": "python3"
  },
  "language_info": {
   "codemirror_mode": {
    "name": "ipython",
    "version": 3
   },
   "file_extension": ".py",
   "mimetype": "text/x-python",
   "name": "python",
   "nbconvert_exporter": "python",
   "pygments_lexer": "ipython3",
   "version": "3.9.18"
  }
 },
 "nbformat": 4,
 "nbformat_minor": 2
}
